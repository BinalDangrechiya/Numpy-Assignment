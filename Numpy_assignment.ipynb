{
  "nbformat": 4,
  "nbformat_minor": 0,
  "metadata": {
    "colab": {
      "provenance": [],
      "collapsed_sections": [
        "YQML_C_pOMsX"
      ]
    },
    "kernelspec": {
      "name": "python3",
      "display_name": "Python 3"
    },
    "language_info": {
      "name": "python"
    }
  },
  "cells": [
    {
      "cell_type": "markdown",
      "source": [
        "# **Theoretical**"
      ],
      "metadata": {
        "id": "YQML_C_pOMsX"
      }
    },
    {
      "cell_type": "markdown",
      "source": [
        "Q1. Explain the purpose and advantages of NumPy in scientific computing and data analysis. How does it enhance Python's capabilities for numerical operations?"
      ],
      "metadata": {
        "id": "B7ec1DKkOMow"
      }
    },
    {
      "cell_type": "markdown",
      "source": [
        "NumPy is a fundamental library in Python for scientific computing and data analysis, providing efficient and powerful tools for numerical operations. Its purpose and advantages are as follows:\n",
        "\n",
        "Purpose:\n",
        "\n",
        "* Array and Matrix Operations:\n",
        "\n",
        " NumPy's primary function is to provide efficient and flexible implementations for storing and manipulating large arrays and matrices of numerical data. It offers a wide range of functions for performing mathematical operations on these arrays, such as addition, subtraction, multiplication, division, and element-wise operations.\n",
        "\n",
        "* Linear Algebra:\n",
        "\n",
        " NumPy includes a comprehensive set of tools for linear algebra, including matrix inversion, determinant calculation, eigenvalue and eigenvector analysis, and solving linear systems of equations. These capabilities are essential for many scientific and engineering applications.\n",
        "\n",
        "* Random Number Generation:\n",
        "\n",
        " NumPy provides functions for generating various types of random numbers, including uniform, normal, Poisson, and binomial distributions. This is crucial for simulations, statistical analysis, and machine learning tasks.\n",
        "\n",
        "* Fourier Transforms:\n",
        "\n",
        " NumPy offers efficient implementations of Fourier transforms, which are widely used in signal processing, image processing, and scientific data analysis.\n",
        "\n",
        " * Advantages of NumPy\n",
        "\n",
        "1. Performance:\n",
        "\n",
        "Vectorization:\n",
        "\n",
        "NumPy operations are vectorized, meaning that they operate on whole arrays at once rather than through explicit loops in Python. This leads to significant performance improvements, as vectorized operations are executed in compiled C code rather than interpreted Python.\n",
        "\n",
        "Memory Efficiency:\n",
        "\n",
        " NumPy arrays consume less memory and have a more compact internal representation than Python lists.\n",
        "\n",
        "2. Broadcasting:\n",
        "\n",
        "Broadcasting is a technique that allows NumPy to perform arithmetic operations on arrays of different shapes and sizes without explicitly reshaping them. This makes it easier to write concise and efficient code for operations that involve arrays of different dimensions.\n",
        "\n",
        "3. Convenience:\n",
        "\n",
        "Array Manipulation:\n",
        "\n",
        " NumPy provides a rich set of functions for creating, reshaping, and manipulating arrays. Operations like slicing, indexing, and reshaping are straightforward and efficient.\n",
        "\n",
        "Integration with Other Libraries:\n",
        "\n",
        " Many scientific and data analysis libraries rely on NumPy arrays as their fundamental data structure. This allows for easy interoperability and data exchange between different libraries.\n",
        "\n",
        "4. Mathematical and Statistical Operations:\n",
        "\n",
        "Comprehensive Library:\n",
        "\n",
        " NumPy includes a wide array of mathematical functions, including operations for linear algebra (e.g., matrix multiplication, eigenvalues), statistical analysis (e.g., mean, median, standard deviation), and random number generation.\n",
        "\n",
        "High-Level Functions:\n",
        "\n",
        " Functions like numpy.dot for dot products, numpy.linalg for linear algebra operations, and numpy.fft for fast Fourier transforms are optimized for performance and ease of use.\n",
        "\n",
        "5. Scientific and Engineering Applications: NumPy is widely used in fields such as physics, engineering, and finance due to its ability to handle large datasets and perform complex numerical computations efficiently.\n",
        "\n",
        "How it enhances Python's capabilities for numerical operations:\n",
        "\n",
        "* Efficient Data Storage:\n",
        "\n",
        " NumPy arrays provide a more efficient way to store numerical data compared to Python lists, leading to faster operations.\n",
        "\n",
        "* Optimized Numerical Functions:\n",
        "\n",
        " NumPy's functions are optimized for numerical computations, often implemented in C or Fortran for maximum performance.\n",
        "\n",
        "* Linear Algebra Tools:\n",
        "\n",
        " NumPy's linear algebra capabilities enable complex mathematical operations to be performed efficiently.\n",
        "\n",
        "* Random Number Generation:\n",
        "\n",
        "NumPy's random number generation functions are essential for simulations and statistical analysis.\n",
        "\n",
        "* Fourier Transforms:\n",
        "\n",
        " NumPy's Fourier transform functions are crucial for signal and image processing."
      ],
      "metadata": {
        "id": "RwPrzu_-Bd7L"
      }
    },
    {
      "cell_type": "markdown",
      "source": [
        "Q2. Compare and contrast np.mean() and np.average() functions in NumPy. When would you use one over the other?"
      ],
      "metadata": {
        "id": "1IwcYuK3OMd3"
      }
    },
    {
      "cell_type": "markdown",
      "source": [
        "In the Numpy library, there are two functions np.mean() and np.average() are present. Both are actually doing nearly the same job of calculating mean/average. The difference comes when we are calculating the weighted average. If that is the case then we have to use np.average(). With np.average function we can calculate both arithmetic mean and weighted average. In this article, we have shown the basic use case of both functions and how they are different from each other.\n",
        "\n",
        "* np.mean()\n",
        "\n",
        "In numpy library, np.mean() is a function used to calculate arithmetic mean of the given array along with the axis. Lets see the code implementation.\n",
        "\n",
        "Example:"
      ],
      "metadata": {
        "id": "wp22KcXrPr45"
      }
    },
    {
      "cell_type": "code",
      "source": [
        "import numpy as np\n",
        "\n",
        "arr = np.array([1, 2, 3, 4, 5])\n",
        "mean_value = np.mean(arr)\n",
        "print(mean_value)"
      ],
      "metadata": {
        "colab": {
          "base_uri": "https://localhost:8080/"
        },
        "id": "XntIiwjmADrh",
        "outputId": "d4859a10-f42b-4ea2-f549-881b02d80a87"
      },
      "execution_count": null,
      "outputs": [
        {
          "output_type": "stream",
          "name": "stdout",
          "text": [
            "3.0\n"
          ]
        }
      ]
    },
    {
      "cell_type": "markdown",
      "source": [
        "* np.average()\n",
        "\n",
        "The arithmetic mean and weighted average calculations are more flexible with np.average(). It can calculate the weighted average if we pass the weight; if not, it returns the same value as np.mean(). This implies that the arithmetic mean is the result when we do not pass the weight condition. So let’s jump into implementing the code right away. So here goes the code.\n",
        "\n",
        "Example :"
      ],
      "metadata": {
        "id": "X1EtPNc5AO_R"
      }
    },
    {
      "cell_type": "code",
      "source": [
        "arr = np.array([1, 2, 3, 4, 5])\n",
        "weights = np.array([0.1, 0.2, 0.3, 0.2, 0.2])\n",
        "weighted_average = np.average(arr, weights=weights)\n",
        "print(weighted_average)"
      ],
      "metadata": {
        "colab": {
          "base_uri": "https://localhost:8080/"
        },
        "id": "rPfvjMdrAfBg",
        "outputId": "49993c6b-c00e-48a7-c951-19ef4fdd4f05"
      },
      "execution_count": null,
      "outputs": [
        {
          "output_type": "stream",
          "name": "stdout",
          "text": [
            "3.2\n"
          ]
        }
      ]
    },
    {
      "cell_type": "markdown",
      "source": [
        "* Compare np.average() and np.mean()\n",
        "\n",
        "Many more arguments, such as dtype, out, where, and others, are available in the np.mean() method that is not accessible in the np.average() function.\n",
        "\n",
        "If the weights option is specified, the np.average() function may compute a weighted mean, but np.mean() cannot.\n",
        "\n",
        "Since np.average does not take into consideration boolean masks, it will compute the average over the entire collection of data. While the np.mean() method takes into account boolean masks, compute the mean solely across unmasked data."
      ],
      "metadata": {
        "id": "VH7oRXK3A6OS"
      }
    },
    {
      "cell_type": "markdown",
      "source": [
        "Q3. Describe the methods for reversing a NumPy array along different axes. Provide examples for 1D and 2D arrays."
      ],
      "metadata": {
        "id": "bJA10AFOOsjg"
      }
    },
    {
      "cell_type": "markdown",
      "source": [
        "As we know Numpy is a general-purpose array-processing package that provides a high-performance multidimensional array object, and tools for working with these arrays. Let’s discuss how can we reverse a Numpy array.\n",
        "\n",
        "* Reversing NumPy Arrays Along Different Axes\n",
        "\n",
        "In NumPy, reversing an array involves flipping its elements along a particular axis. This is often used for various operations, such as reversing the order of elements in a sequence or performing specific mathematical calculations.\n",
        "\n",
        "* Methods for Reversing Arrays:\n",
        "\n",
        "1. Using the [::-1] Slicing Syntax:\n",
        "\n",
        "This is the most common and concise way to reverse an array.\n",
        "\n",
        "The [::-1] slice specifies that all elements should be taken, but in reverse order.\n",
        "\n",
        "Example:"
      ],
      "metadata": {
        "id": "iMXwWeY_Ps24"
      }
    },
    {
      "cell_type": "code",
      "source": [
        "# 1D array\n",
        "arr1d = np.array([1, 2, 3, 4, 5])\n",
        "reversed_1d = arr1d[::-1]\n",
        "print(reversed_1d)\n",
        "\n",
        "# 2D array\n",
        "arr2d = np.array([[1, 2, 3],\n",
        "                 [4, 5, 6]])\n",
        "reversed_2d = arr2d[::-1, :]\n",
        "print(reversed_2d)"
      ],
      "metadata": {
        "colab": {
          "base_uri": "https://localhost:8080/"
        },
        "id": "VIu3fO9a0b2v",
        "outputId": "8c8c4127-c802-450e-9568-cb48c4c5252b"
      },
      "execution_count": null,
      "outputs": [
        {
          "output_type": "stream",
          "name": "stdout",
          "text": [
            "[5 4 3 2 1]\n",
            "[[4 5 6]\n",
            " [1 2 3]]\n"
          ]
        }
      ]
    },
    {
      "cell_type": "markdown",
      "source": [
        "2. Using the flip() Function:\n",
        "\n",
        "The np.flip() function provides more flexibility for reversing along specific axes.\n",
        "\n",
        "It takes the array and an optional axis argument. If no axis is specified, it reverses along all axes.\n",
        "\n",
        "Example:"
      ],
      "metadata": {
        "id": "YAh-atpe1LF5"
      }
    },
    {
      "cell_type": "code",
      "source": [
        "# 1D array\n",
        "arr1d = np.array([1, 2, 3, 4, 5])\n",
        "reversed_1d = np.flip(arr1d)\n",
        "print(reversed_1d)\n",
        "\n",
        "# 2D array\n",
        "arr2d = np.array([[1, 2, 3],\n",
        "                 [4, 5, 6]])\n",
        "reversed_2d_axis0 = np.flip(arr2d, axis=0)\n",
        "reversed_2d_axis1 = np.flip(arr2d, axis=1)\n",
        "print(reversed_2d_axis0)\n",
        "print(reversed_2d_axis1)"
      ],
      "metadata": {
        "colab": {
          "base_uri": "https://localhost:8080/"
        },
        "id": "ZHO3wYQB1ULx",
        "outputId": "d0a2a39d-6685-41ef-a746-9b6043fc0f80"
      },
      "execution_count": null,
      "outputs": [
        {
          "output_type": "stream",
          "name": "stdout",
          "text": [
            "[5 4 3 2 1]\n",
            "[[4 5 6]\n",
            " [1 2 3]]\n",
            "[[3 2 1]\n",
            " [6 5 4]]\n"
          ]
        }
      ]
    },
    {
      "cell_type": "markdown",
      "source": [
        "* Both methods achieve the same result: reversing the array along the specified axis.\n",
        "\n",
        "* The [::-1] slicing syntax is generally more concise for simple reversals.\n",
        "\n",
        "* The np.flip() function offers more flexibility, especially for higher-dimensional arrays and reversing along multiple axes.\n",
        "\n",
        "* Choose the method that best suits your specific requirements and coding style."
      ],
      "metadata": {
        "id": "jl5vxNsA3kni"
      }
    },
    {
      "cell_type": "markdown",
      "source": [
        "Q4. How can you determine the data type of elements in a NumPy array? Discuss the importance of data types in memory management and performance.\n",
        "\n",
        "\n"
      ],
      "metadata": {
        "id": "0OmUT413Ozs2"
      }
    },
    {
      "cell_type": "markdown",
      "source": [
        "* Determining Data Types in NumPy Arrays\n",
        "\n",
        "NumPy arrays are homogeneous data structures, meaning all elements within an array must have the same data type. This data type determines how the elements are stored in memory and how operations are performed on them.\n",
        "\n",
        "Here are the primary methods to determine the data type of elements in a NumPy array:\n",
        "\n",
        "1. Using the dtype Attribute:\n",
        "\n",
        "The dtype attribute of a NumPy array directly provides the data type.\n",
        "\n",
        "Example:"
      ],
      "metadata": {
        "id": "XJHr4aTa5a1x"
      }
    },
    {
      "cell_type": "code",
      "source": [
        "arr = np.array([1, 2, 3, 4, 5])\n",
        "print(arr.dtype)"
      ],
      "metadata": {
        "colab": {
          "base_uri": "https://localhost:8080/"
        },
        "id": "yIdgFj3P535a",
        "outputId": "da5bb309-f9b6-45c5-8060-682347b3c010"
      },
      "execution_count": null,
      "outputs": [
        {
          "output_type": "stream",
          "name": "stdout",
          "text": [
            "int64\n"
          ]
        }
      ]
    },
    {
      "cell_type": "markdown",
      "source": [
        "2. Using the type() Function (Not Recommended):\n",
        "\n",
        "While technically possible, using type() on a NumPy array will return the numpy.ndarray type, which doesn't reveal the underlying element data type.\n",
        "\n",
        "Example:"
      ],
      "metadata": {
        "id": "6Opis9RC59yQ"
      }
    },
    {
      "cell_type": "code",
      "source": [
        "arr = np.array([1, 2, 3, 4, 5])\n",
        "print(type(arr))"
      ],
      "metadata": {
        "colab": {
          "base_uri": "https://localhost:8080/"
        },
        "id": "Dm0vFlUO6BxL",
        "outputId": "c5a26ca4-5b52-487b-b35d-5ca6f5acc74d"
      },
      "execution_count": null,
      "outputs": [
        {
          "output_type": "stream",
          "name": "stdout",
          "text": [
            "<class 'numpy.ndarray'>\n"
          ]
        }
      ]
    },
    {
      "cell_type": "markdown",
      "source": [
        "mportance of Data Types in Memory Management and Performance :\n",
        "\n",
        "Understanding and choosing the appropriate data type for your NumPy arrays is crucial for efficient memory management and optimal performance:\n",
        "\n",
        "* Memory Usage:\n",
        "\n",
        " Different data types occupy varying amounts of memory. For example, a float64 element requires twice as much memory as an int32 element. By selecting the smallest data type that can accurately represent your values, you can significantly reduce memory consumption.\n",
        "\n",
        "* Computational Efficiency:\n",
        "\n",
        " NumPy is highly optimized for performing operations on arrays of the same data type. When elements have the same data type, the underlying algorithms can be more efficient, leading to faster computations.\n",
        "\n",
        "* Data Integrity:\n",
        "\n",
        " Using the correct data type helps prevent data loss or unexpected behavior due to incorrect value representation. For instance, if you store integer values in a float array, you might introduce rounding errors.\n",
        "\n",
        "Common Data Types in NumPy:\n",
        "\n",
        "Integer : int8, int16, int32, int64\n",
        "\n",
        "Floating-point : float16, float32, float64\n",
        "\n",
        "Complex : complex64, complex128\n",
        "\n",
        "Boolean : bool\n",
        "\n",
        "String : object (for variable-length strings)"
      ],
      "metadata": {
        "id": "zHhraMzX6dGT"
      }
    },
    {
      "cell_type": "markdown",
      "source": [
        "Q5. Define ndarrays in NumPy and explain their key features. How do they differ from standard Python lists?"
      ],
      "metadata": {
        "id": "zP1ijOheO4h3"
      }
    },
    {
      "cell_type": "markdown",
      "source": [
        "* ndarrays in NumPy\n",
        "\n",
        "NumPy arrays, also known as ndarrays (n-dimensional arrays), are the fundamental data structure in the NumPy library. They provide a powerful and efficient way to represent and manipulate numerical data in Python.\n",
        "\n",
        "* Key Features of ndarrays:\n",
        "\n",
        "1. Homogeneity:\n",
        "\n",
        " All elements within an ndarray must have the same data type (e.g., int, float, bool). This ensures efficient memory management and optimized operations.\n",
        "\n",
        "2. Fixed Size:\n",
        "\n",
        " The size of an ndarray is fixed once it's created. This allows for efficient memory allocation and indexing.\n",
        "\n",
        "3. Multi-Dimensionality:\n",
        "\n",
        " ndarrays can be multi-dimensional, representing data in various shapes such as 1D arrays (vectors), 2D arrays (matrices), and higher-dimensional arrays.\n",
        "\n",
        "4. Vectorized Operations:\n",
        "\n",
        " NumPy provides vectorized operations, which allow you to perform operations on entire arrays element-wise without explicit loops. This significantly improves performance.\n",
        "\n",
        "5. Broadcasting:\n",
        "\n",
        " NumPy supports broadcasting, which allows arrays of different shapes to be compatible in arithmetic operations. This simplifies calculations and makes code more concise.\n",
        "\n",
        "6. Indexing and Slicing:\n",
        "\n",
        " Powerful indexing and slicing mechanisms enable you to access and manipulate specific elements or subsets of an ndarray.\n",
        "\n",
        "7. Shape and Size:\n",
        "\n",
        " ndarrays have attributes like shape and size that provide information about their dimensions and the total number of elements.\n",
        "\n",
        "* Differences from Standard Python Lists\n",
        "\n",
        "1.  Homogeneity:\n",
        "\n",
        " Python lists can contain elements of different data types, while ndarrays require all elements to have the same type.\n",
        "\n",
        "2. Performance:\n",
        "\n",
        " ndarrays are typically much faster than Python lists for numerical operations due to their optimized implementation and vectorization.\n",
        "\n",
        "3. Fixed Size:\n",
        "\n",
        " Python lists can be dynamically resized, while the size of an ndarray is fixed after creation.\n",
        "\n",
        "4. Multi-Dimensionality:\n",
        "\n",
        " While Python lists can be nested to represent multi-dimensional data, ndarrays are specifically designed for efficient handling of multi-dimensional arrays.\n",
        "\n",
        "5. Vectorized Operations:\n",
        " Python lists require explicit loops for most numerical operations, while ndarrays support vectorized operations for faster computations."
      ],
      "metadata": {
        "id": "6Ze9YCEt7kJb"
      }
    },
    {
      "cell_type": "markdown",
      "source": [
        "Q6. Analyze the performance benefits of NumPy arrays over Python lists for large-scale numerical operations."
      ],
      "metadata": {
        "id": "bpVCkVV8O8t3"
      }
    },
    {
      "cell_type": "markdown",
      "source": [
        "NumPy arrays offer significant performance advantages over Python lists for large-scale numerical operations due to several key factors:\n",
        "\n",
        "1. Memory Efficiency:\n",
        "\n",
        " * Contiguous Storage: NumPy arrays store elements in contiguous memory locations, allowing for more efficient memory access and faster operations.\n",
        "\n",
        " * Optimized Data Types: NumPy provides a variety of data types specifically designed for numerical operations, such as int32, float64, and complex128. These data types are often more compact and efficient than Python's built-in int and float types.\n",
        "\n",
        "2. Vectorized Operations:\n",
        "\n",
        " * Element-wise Operations: NumPy supports vectorized operations, which allow you to perform operations on entire arrays element-wise without explicit loops. This eliminates the overhead of Python's loop constructs and can significantly improve performance.\n",
        "\n",
        " * Optimized Implementations: NumPy's vectorized operations are often implemented in highly optimized C or Fortran code, providing a significant speedup compared to Python's interpreted code.\n",
        "\n",
        "3. Broadcasting:\n",
        "\n",
        " * Automatic Shape Compatibility: NumPy's broadcasting mechanism allows arrays of different shapes to be compatible in arithmetic operations. This simplifies calculations and avoids unnecessary data copying, leading to performance improvements.\n",
        "\n",
        "4. Optimized Libraries:\n",
        "\n",
        " * BLAS and LAPACK: NumPy leverages highly optimized libraries like BLAS (Basic Linear Algebra Subprograms) and LAPACK (Linear Algebra Package) for linear algebra operations. These libraries are often implemented in assembly language and can provide substantial performance gains, especially for large matrices.\n",
        "\n",
        "5. Reduced Overhead:\n",
        "\n",
        " * Interpreter Overhead: NumPy's operations are often implemented in compiled code, reducing the overhead of Python's interpreter. This can be particularly beneficial for computationally intensive tasks.\n",
        "\n",
        "Example:"
      ],
      "metadata": {
        "id": "hXa4QVcc-QYx"
      }
    },
    {
      "cell_type": "code",
      "source": [
        "import time\n",
        "\n",
        "# Create large lists and arrays\n",
        "python_list = list(range(10000000))\n",
        "numpy_array = np.arange(10000000)\n",
        "\n",
        "# Time the sum operation for both lists and arrays\n",
        "start_time = time.time()\n",
        "python_sum = sum(python_list)\n",
        "end_time = time.time()\n",
        "python_time = end_time - start_time\n",
        "\n",
        "start_time = time.time()\n",
        "numpy_sum = np.sum(numpy_array)\n",
        "end_time = time.time()\n",
        "numpy_time = end_time - start_time\n",
        "\n",
        "print(\"Python list time:\", python_time)\n",
        "print(\"NumPy array time:\", numpy_time)"
      ],
      "metadata": {
        "colab": {
          "base_uri": "https://localhost:8080/"
        },
        "id": "Pew0yHoG-uDr",
        "outputId": "e5f32eb9-80c1-46d3-e29a-74be02c6f0fe"
      },
      "execution_count": null,
      "outputs": [
        {
          "output_type": "stream",
          "name": "stdout",
          "text": [
            "Python list time: 0.08187603950500488\n",
            "NumPy array time: 0.014528989791870117\n"
          ]
        }
      ]
    },
    {
      "cell_type": "markdown",
      "source": [
        "Q7. Compare vstack() and hstack() functions in NumPy. Provide examples demonstrating their usage and output."
      ],
      "metadata": {
        "id": "0LRXDn_xPCKY"
      }
    },
    {
      "cell_type": "markdown",
      "source": [
        "Comparing vstack() and hstack() in NumPy\n",
        "\n",
        "vstack() and hstack() are two essential functions in NumPy used to vertically and horizontally stack arrays, respectively.\n",
        "\n",
        "vstack():\n",
        "\n",
        "* Vertically stacks arrays: Appends arrays row-wise.\n",
        "* Requires arrays with the same number of columns.\n",
        "\n",
        "Example:"
      ],
      "metadata": {
        "id": "iYeA3uBFAk6b"
      }
    },
    {
      "cell_type": "code",
      "source": [
        "array1 = np.array([[1, 2],\n",
        "                  [3, 4]])\n",
        "\n",
        "array2 = np.array([[5, 6],\n",
        "                  [7, 8]])\n",
        "\n",
        "stacked_array = np.vstack((array1, array2))\n",
        "print(stacked_array)"
      ],
      "metadata": {
        "colab": {
          "base_uri": "https://localhost:8080/"
        },
        "id": "O0p4YaPnAx7K",
        "outputId": "81a70bf1-285c-4045-e939-c630749afd49"
      },
      "execution_count": null,
      "outputs": [
        {
          "output_type": "stream",
          "name": "stdout",
          "text": [
            "[[1 2]\n",
            " [3 4]\n",
            " [5 6]\n",
            " [7 8]]\n"
          ]
        }
      ]
    },
    {
      "cell_type": "markdown",
      "source": [
        "hstack():\n",
        "\n",
        "* Horizontally stacks arrays: Appends arrays column-wise.\n",
        "* Requires arrays with the same number of rows.\n",
        "\n",
        "Example:"
      ],
      "metadata": {
        "id": "urh3LA2QA3nq"
      }
    },
    {
      "cell_type": "code",
      "source": [
        "array1 = np.array([[1, 2],\n",
        "                  [3, 4]])\n",
        "\n",
        "array2 = np.array([[5, 6],\n",
        "                  [7, 8]])\n",
        "\n",
        "stacked_array = np.hstack((array1, array2))\n",
        "print(stacked_array)"
      ],
      "metadata": {
        "id": "mRxU3FISA--z",
        "outputId": "fda9d92c-158d-4642-9cc3-73a6a0b1a6db",
        "colab": {
          "base_uri": "https://localhost:8080/"
        }
      },
      "execution_count": null,
      "outputs": [
        {
          "output_type": "stream",
          "name": "stdout",
          "text": [
            "[[1 2 5 6]\n",
            " [3 4 7 8]]\n"
          ]
        }
      ]
    },
    {
      "cell_type": "markdown",
      "source": [
        "Key Differences:\n",
        "\n",
        "* vstack() stacks arrays vertically, requiring the same number of columns.\n",
        "\n",
        "* hstack() stacks arrays horizontally, requiring the same number of rows."
      ],
      "metadata": {
        "id": "UCjFe5Q2WlwK"
      }
    },
    {
      "cell_type": "markdown",
      "source": [
        "Q8. Explain the differences between fliplr() and flipud() methods in NumPy, including their effects on various array dimensions.\n",
        "\n",
        "\n"
      ],
      "metadata": {
        "id": "QNdTeqzEPHEH"
      }
    },
    {
      "cell_type": "markdown",
      "source": [
        "I'd be glad to explain the differences between fliplr() and flipud() methods in NumPy:\n",
        "\n",
        "fliplr()\n",
        "\n",
        "* Purpose: Flips an array along the left-right axis (the last axis).\n",
        "* Effect on array dimensions:\n",
        " * Reverses the order of elements in each row.\n",
        " * Does not affect the shape of the array.\n",
        "\n",
        "Example:"
      ],
      "metadata": {
        "id": "FEkKNrfZZZbT"
      }
    },
    {
      "cell_type": "code",
      "source": [
        "array = np.array([[1, 2, 3],\n",
        "                 [4, 5, 6]])\n",
        "\n",
        "flipped_array = np.fliplr(array)\n",
        "print(flipped_array)"
      ],
      "metadata": {
        "colab": {
          "base_uri": "https://localhost:8080/"
        },
        "id": "s59DcCYHZp4v",
        "outputId": "afc5fd03-52b4-460a-9b39-baaf965553e6"
      },
      "execution_count": null,
      "outputs": [
        {
          "output_type": "stream",
          "name": "stdout",
          "text": [
            "[[3 2 1]\n",
            " [6 5 4]]\n"
          ]
        }
      ]
    },
    {
      "cell_type": "markdown",
      "source": [
        "flipud()\n",
        "\n",
        "* Purpose: Flips an array along the up-down axis (the first axis).\n",
        "* Effect on array dimensions:\n",
        " *  Reverses the order of rows in the array.\n",
        " *  Does not affect the shape of the array.\n",
        "\n",
        "Example:"
      ],
      "metadata": {
        "id": "mGk0Dn-0Zuq-"
      }
    },
    {
      "cell_type": "code",
      "source": [
        "array = np.array([[1, 2, 3],\n",
        "                 [4, 5, 6]])\n",
        "\n",
        "flipped_array = np.flipud(array)\n",
        "print(flipped_array)"
      ],
      "metadata": {
        "colab": {
          "base_uri": "https://localhost:8080/"
        },
        "id": "aSWgFQpjZ_OT",
        "outputId": "815664e9-a865-4f56-c301-c7ea0e6c3734"
      },
      "execution_count": null,
      "outputs": [
        {
          "output_type": "stream",
          "name": "stdout",
          "text": [
            "[[4 5 6]\n",
            " [1 2 3]]\n"
          ]
        }
      ]
    },
    {
      "cell_type": "markdown",
      "source": [
        "Key Differences:\n",
        "\n",
        "* fliplr() is useful for reversing the order of elements within each row of an array.\n",
        "* flipud() is useful for reversing the order of rows in an array.\n",
        "* Both methods do not affect the overall shape of the array."
      ],
      "metadata": {
        "id": "VMn4tPkqaJzE"
      }
    },
    {
      "cell_type": "markdown",
      "source": [
        "Q9. Discuss the functionality of the array_split() method in NumPy. How does it handle uneven splits?"
      ],
      "metadata": {
        "id": "lp2rwF8SPgNC"
      }
    },
    {
      "cell_type": "markdown",
      "source": [
        "The array_split() method in NumPy is used to split an array into a specified number of sub-arrays. It's a versatile tool for dividing data into smaller, more manageable chunks.\n",
        "\n",
        "Functionality:\n",
        "\n",
        "* Input: Takes an array and the desired number of splits as input.\n",
        "* Output: Returns a list of sub-arrays, where each sub-array has approximately the same size.\n",
        "* Handling uneven splits: If the array cannot be evenly divided, the first few sub-arrays will be larger than the rest.\n",
        "\n",
        "Example:"
      ],
      "metadata": {
        "id": "NaZXLu29bvzc"
      }
    },
    {
      "cell_type": "code",
      "source": [
        "array = np.arange(10)\n",
        "subarrays = np.array_split(array, 3)\n",
        "print(subarrays)"
      ],
      "metadata": {
        "colab": {
          "base_uri": "https://localhost:8080/"
        },
        "id": "cVUB5cl2b64L",
        "outputId": "673398a2-e0f8-4c3e-b060-0cd44f8afd8d"
      },
      "execution_count": null,
      "outputs": [
        {
          "output_type": "stream",
          "name": "stdout",
          "text": [
            "[array([0, 1, 2, 3]), array([4, 5, 6]), array([7, 8, 9])]\n"
          ]
        }
      ]
    },
    {
      "cell_type": "markdown",
      "source": [
        "How array_split() handles uneven splits:\n",
        "\n",
        "* The method calculates the approximate size of each sub-array by dividing the total number of elements by the number of splits.\n",
        "* It then iterates over the array, assigning elements to each sub-array until the desired size is reached.\n",
        "* If the remaining elements are not enough to fill the last sub-array, they are simply appended to it.\n",
        "\n",
        "Example with uneven splits:"
      ],
      "metadata": {
        "id": "CnBC4f3Ib8ub"
      }
    },
    {
      "cell_type": "code",
      "source": [
        "array = np.arange(11)\n",
        "subarrays = np.array_split(array, 4)\n",
        "print(subarrays)"
      ],
      "metadata": {
        "colab": {
          "base_uri": "https://localhost:8080/"
        },
        "id": "5imt2SVRctSD",
        "outputId": "1fef5184-39ff-4a1a-e170-da5f0dd4db01"
      },
      "execution_count": null,
      "outputs": [
        {
          "output_type": "stream",
          "name": "stdout",
          "text": [
            "[array([0, 1, 2]), array([3, 4, 5]), array([6, 7, 8]), array([ 9, 10])]\n"
          ]
        }
      ]
    },
    {
      "cell_type": "markdown",
      "source": [
        "As you can see, the first two sub-arrays have 3 elements, while the last two have 2 and 3 elements, respectively. This is because the array cannot be evenly divided into 4 parts.\n",
        "\n",
        "In conclusion, the array_split() method provides a convenient way to split arrays in NumPy, and it handles uneven splits by ensuring that the first few sub-arrays are slightly larger than the rest."
      ],
      "metadata": {
        "id": "Muj1D3R0f7Ix"
      }
    },
    {
      "cell_type": "markdown",
      "source": [
        "Q10. Explain the concepts of vectorization and broadcasting in NumPy. How do they contribute to efficient array operations?"
      ],
      "metadata": {
        "id": "5mPXYTPSPjly"
      }
    },
    {
      "cell_type": "markdown",
      "source": [
        "I'd be glad to explain the concepts of vectorization and broadcasting in NumPy and their contributions to efficient array operations:\n",
        "\n",
        "Vectorization :\n",
        "\n",
        "* Definition:\n",
        "\n",
        " Vectorization is a technique in NumPy that allows you to perform operations on entire arrays without explicit loops. Instead of iterating over elements one by one, NumPy applies the operation to the entire array at once.\n",
        "\n",
        "* Benefits:\n",
        "\n",
        " * Efficiency: Vectorized operations are significantly faster than equivalent Python loops, especially for large arrays. NumPy leverages highly optimized C code for these operations.\n",
        " * Readability: Vectorized code is often more concise and easier to understand than loop-based code.\n",
        " * Memory Efficiency: Vectorized operations can be more memory-efficient in some cases, as they may avoid creating intermediate arrays.\n",
        "\n",
        "Example:"
      ],
      "metadata": {
        "id": "fk218eO5HUDD"
      }
    },
    {
      "cell_type": "code",
      "source": [
        "import numpy as np\n",
        "# Create two arrays\n",
        "a = np.array([1, 2, 3])\n",
        "b = np.array([4, 5, 6])\n",
        "\n",
        "# Vectorized addition\n",
        "result = a + b\n",
        "print(result)"
      ],
      "metadata": {
        "colab": {
          "base_uri": "https://localhost:8080/"
        },
        "id": "H2QNaCCiHuMM",
        "outputId": "41196501-d2d1-48fc-b9d2-c55d9bdd3c62"
      },
      "execution_count": null,
      "outputs": [
        {
          "output_type": "stream",
          "name": "stdout",
          "text": [
            "[5 7 9]\n"
          ]
        }
      ]
    },
    {
      "cell_type": "markdown",
      "source": [
        "Broadcasting :\n",
        "\n",
        "* Definition:\n",
        "\n",
        " Broadcasting is a set of rules in NumPy that allows arrays of different shapes to be compatible for arithmetic operations. NumPy automatically expands the smaller array to match the shape of the larger array before performing the operation.\n",
        "* Rules:\n",
        " * Shape Compatibility: The arrays must have compatible shapes. The trailing dimensions of the arrays must be compatible, meaning they can either be equal or one of them can be 1.\n",
        " * Expansion: If the shape of an array is smaller than the shape of the other array, it is expanded by replicating the elements along the missing dimensions.\n",
        "* Benefits:\n",
        " * Flexibility: Broadcasting enables you to perform operations on arrays of different sizes without explicit reshaping or looping.\n",
        " * Efficiency: Broadcasting can often be more efficient than manual reshaping or looping, especially for large arrays.\n",
        "\n",
        "Example:"
      ],
      "metadata": {
        "id": "vR-u0fyFH6kw"
      }
    },
    {
      "cell_type": "code",
      "source": [
        "a = np.array([1, 2, 3])\n",
        "b = np.array([[4], [5], [6]])\n",
        "\n",
        "# Broadcasting\n",
        "result = a * b\n",
        "print(result)"
      ],
      "metadata": {
        "colab": {
          "base_uri": "https://localhost:8080/"
        },
        "id": "HEa21W_lIO0A",
        "outputId": "4bc8c19c-0dda-408e-aa3f-7effd9bb51c0"
      },
      "execution_count": null,
      "outputs": [
        {
          "output_type": "stream",
          "name": "stdout",
          "text": [
            "[[ 4  8 12]\n",
            " [ 5 10 15]\n",
            " [ 6 12 18]]\n"
          ]
        }
      ]
    },
    {
      "cell_type": "markdown",
      "source": [
        "Combined Benefits of Vectorization and Broadcasting :\n",
        "\n",
        "* Efficiency: Combining vectorization and broadcasting can lead to highly efficient array operations, especially for large datasets.\n",
        "* Readability: The code becomes more concise and easier to understand.\n",
        "* Flexibility: Broadcasting allows you to work with arrays of different shapes without explicit reshaping or looping."
      ],
      "metadata": {
        "id": "wTH0MxQuIdDN"
      }
    },
    {
      "cell_type": "markdown",
      "source": [
        "# Practical"
      ],
      "metadata": {
        "id": "JGevh0B0Ilce"
      }
    },
    {
      "cell_type": "code",
      "source": [
        "import numpy as np"
      ],
      "metadata": {
        "id": "uyedFS-9JXw6"
      },
      "execution_count": null,
      "outputs": []
    },
    {
      "cell_type": "markdown",
      "source": [
        "Q 1. Create a 3x3 NumPy array with random integers between 1 and 100. Then, interchange its rows and columns."
      ],
      "metadata": {
        "id": "FFJ0w9bDIvoy"
      }
    },
    {
      "cell_type": "code",
      "source": [
        "array = np.random.randint(1, 101, (3, 3))\n",
        "\n",
        "interchanged_array = array.T\n",
        "\n",
        "print(\"Original array:\")\n",
        "print(array)\n",
        "\n",
        "print(\"\\nInterchanged array:\")\n",
        "print(interchanged_array)"
      ],
      "metadata": {
        "colab": {
          "base_uri": "https://localhost:8080/"
        },
        "id": "Ebfbo99MJeIL",
        "outputId": "6664bc71-d622-449f-af4e-e53b64178062"
      },
      "execution_count": null,
      "outputs": [
        {
          "output_type": "stream",
          "name": "stdout",
          "text": [
            "Original array:\n",
            "[[73 31 78]\n",
            " [45 49 77]\n",
            " [85 92 12]]\n",
            "\n",
            "Interchanged array:\n",
            "[[73 45 85]\n",
            " [31 49 92]\n",
            " [78 77 12]]\n"
          ]
        }
      ]
    },
    {
      "cell_type": "markdown",
      "source": [
        "2. Generate a 1D NumPy array with 10 elements. Reshape it into a 2x5 array, then into a 5x2 array."
      ],
      "metadata": {
        "id": "JNWSMU6FPtx2"
      }
    },
    {
      "cell_type": "code",
      "source": [
        "arr = np.arange(10)\n",
        "\n",
        "# 2x5 array\n",
        "arr_2x5 = arr.reshape(2, 5)\n",
        "print(\"2x5 array:\\n\", arr_2x5)\n",
        "\n",
        "# 5x2 array\n",
        "arr_5x2 = arr.reshape(5, 2)\n",
        "print(\"5x2 array:\\n\", arr_5x2)"
      ],
      "metadata": {
        "colab": {
          "base_uri": "https://localhost:8080/"
        },
        "id": "KAfOF0WxUYbv",
        "outputId": "5681d40e-944f-4c60-f328-f0186484916e"
      },
      "execution_count": null,
      "outputs": [
        {
          "output_type": "stream",
          "name": "stdout",
          "text": [
            "2x5 array:\n",
            " [[0 1 2 3 4]\n",
            " [5 6 7 8 9]]\n",
            "5x2 array:\n",
            " [[0 1]\n",
            " [2 3]\n",
            " [4 5]\n",
            " [6 7]\n",
            " [8 9]]\n"
          ]
        }
      ]
    },
    {
      "cell_type": "markdown",
      "source": [
        "3. Create a 4x4 NumPy array with random float values. Add a border of zeros around it, resulting in a 6x6 array.\n"
      ],
      "metadata": {
        "id": "RafCnpH6UnSK"
      }
    },
    {
      "cell_type": "code",
      "source": [
        "arr = np.random.rand(4, 4)\n",
        "\n",
        "arr_with_border = np.pad(arr, pad_width=1, mode='constant', constant_values=0)\n",
        "\n",
        "print(\"4x4 array with random float values:\\n\", arr)\n",
        "print(\"\\n6x6 array with a border of zeros:\\n\", arr_with_border)"
      ],
      "metadata": {
        "colab": {
          "base_uri": "https://localhost:8080/"
        },
        "id": "gjZvTsqxUs5i",
        "outputId": "b897748b-ddfb-4dcd-dcf2-d38e2d6fab5c"
      },
      "execution_count": null,
      "outputs": [
        {
          "output_type": "stream",
          "name": "stdout",
          "text": [
            "4x4 array with random float values:\n",
            " [[0.89987697 0.40694717 0.06346448 0.21469006]\n",
            " [0.05600603 0.40871521 0.46372695 0.9205368 ]\n",
            " [0.15324445 0.37374971 0.29537574 0.2861751 ]\n",
            " [0.61584341 0.63464886 0.6234998  0.86364476]]\n",
            "\n",
            "6x6 array with a border of zeros:\n",
            " [[0.         0.         0.         0.         0.         0.        ]\n",
            " [0.         0.89987697 0.40694717 0.06346448 0.21469006 0.        ]\n",
            " [0.         0.05600603 0.40871521 0.46372695 0.9205368  0.        ]\n",
            " [0.         0.15324445 0.37374971 0.29537574 0.2861751  0.        ]\n",
            " [0.         0.61584341 0.63464886 0.6234998  0.86364476 0.        ]\n",
            " [0.         0.         0.         0.         0.         0.        ]]\n"
          ]
        }
      ]
    },
    {
      "cell_type": "markdown",
      "source": [
        "4. Using NumPy, create an array of integers from 10 to 60 with a step of 5."
      ],
      "metadata": {
        "id": "FBN6xc9BWO2v"
      }
    },
    {
      "cell_type": "code",
      "source": [
        "arr = np.arange(10, 61, 5)\n",
        "print(arr)"
      ],
      "metadata": {
        "colab": {
          "base_uri": "https://localhost:8080/"
        },
        "id": "-mhgV6XaWQB4",
        "outputId": "356b8e19-590d-433d-cabe-862cfe8d672b"
      },
      "execution_count": null,
      "outputs": [
        {
          "output_type": "stream",
          "name": "stdout",
          "text": [
            "[10 15 20 25 30 35 40 45 50 55 60]\n"
          ]
        }
      ]
    },
    {
      "cell_type": "markdown",
      "source": [
        "Q 5. Create a NumPy array of strings ['python', 'numpy', 'pandas']. Apply different case transformations\n",
        "(uppercase, lowercase, title case, etc.) to each element."
      ],
      "metadata": {
        "id": "YarnjzqUWpDZ"
      }
    },
    {
      "cell_type": "code",
      "source": [
        "arr = np.array(['python', 'numpy', 'pandas'])\n",
        "\n",
        "# Apply different case transformations\n",
        "arr_uppercase = np.char.upper(arr)\n",
        "arr_lowercase = np.char.lower(arr)\n",
        "arr_titlecase = np.char.title(arr)\n",
        "\n",
        "print(\"Original array:\", arr)\n",
        "print(\"Uppercase:\", arr_uppercase)\n",
        "print(\"Lowercase:\", arr_lowercase)\n",
        "print(\"Title case:\", arr_titlecase)"
      ],
      "metadata": {
        "colab": {
          "base_uri": "https://localhost:8080/"
        },
        "id": "nDmDMdlNYQgn",
        "outputId": "48d1bf66-6c3b-4513-8600-ee8a9676cb9c"
      },
      "execution_count": null,
      "outputs": [
        {
          "output_type": "stream",
          "name": "stdout",
          "text": [
            "Original array: ['python' 'numpy' 'pandas']\n",
            "Uppercase: ['PYTHON' 'NUMPY' 'PANDAS']\n",
            "Lowercase: ['python' 'numpy' 'pandas']\n",
            "Title case: ['Python' 'Numpy' 'Pandas']\n"
          ]
        }
      ]
    },
    {
      "cell_type": "markdown",
      "source": [
        "Q 6. Generate a NumPy array of words. Insert a space between each character of every word in the array."
      ],
      "metadata": {
        "id": "2WBnioOaYa_V"
      }
    },
    {
      "cell_type": "code",
      "source": [
        "words = np.array(['python', 'numpy', 'pandas'])\n",
        "words_spaced = np.char.join(' ', words)\n",
        "print(words_spaced)"
      ],
      "metadata": {
        "colab": {
          "base_uri": "https://localhost:8080/"
        },
        "id": "1kO7dDQ0Y2y_",
        "outputId": "22a8e3ae-f053-4f18-9fac-fe22406bc80d"
      },
      "execution_count": null,
      "outputs": [
        {
          "output_type": "stream",
          "name": "stdout",
          "text": [
            "['p y t h o n' 'n u m p y' 'p a n d a s']\n"
          ]
        }
      ]
    },
    {
      "cell_type": "markdown",
      "source": [
        "Q 7. Create two 2D NumPy arrays and perform element-wise addition, subtraction, multiplication, and division."
      ],
      "metadata": {
        "id": "4b5DrkwQY9hA"
      }
    },
    {
      "cell_type": "code",
      "source": [
        "# Create two 2D NumPy arrays\n",
        "arr1 = np.array([[1, 2], [3, 4]])\n",
        "arr2 = np.array([[5, 6], [7, 8]])\n",
        "\n",
        "# addition\n",
        "result_add = arr1 + arr2\n",
        "print(\"Addition:\\n\", result_add)\n",
        "\n",
        "# subtraction\n",
        "result_subtract = arr1 - arr2\n",
        "print(\"Subtraction:\\n\", result_subtract)\n",
        "\n",
        "# multiplication\n",
        "result_multiply = arr1 * arr2\n",
        "print(\"Multiplication:\\n\", result_multiply)\n",
        "\n",
        "# division\n",
        "result_divide = arr1 / arr2\n",
        "print(\"Division:\\n\", result_divide)"
      ],
      "metadata": {
        "colab": {
          "base_uri": "https://localhost:8080/"
        },
        "id": "bz5IARIXZFJJ",
        "outputId": "8e0cb039-7f12-43f6-a10f-c7ef2e9035ae"
      },
      "execution_count": null,
      "outputs": [
        {
          "output_type": "stream",
          "name": "stdout",
          "text": [
            "Addition:\n",
            " [[ 6  8]\n",
            " [10 12]]\n",
            "Subtraction:\n",
            " [[-4 -4]\n",
            " [-4 -4]]\n",
            "Multiplication:\n",
            " [[ 5 12]\n",
            " [21 32]]\n",
            "Division:\n",
            " [[0.2        0.33333333]\n",
            " [0.42857143 0.5       ]]\n"
          ]
        }
      ]
    },
    {
      "cell_type": "markdown",
      "source": [
        "Q 8. Use NumPy to create a 5x5 identity matrix, then extract its diagonal elements."
      ],
      "metadata": {
        "id": "yLcBjrgpfMKh"
      }
    },
    {
      "cell_type": "code",
      "source": [
        "identity_matrix = np.eye(5)\n",
        "diagonal_elements = np.diag(identity_matrix)\n",
        "print(\"Identity matrix:\\n\", identity_matrix)\n",
        "print(\"Diagonal elements:\", diagonal_elements)"
      ],
      "metadata": {
        "colab": {
          "base_uri": "https://localhost:8080/"
        },
        "id": "yvWcQAhtfRoD",
        "outputId": "58f53280-9284-4924-a0dd-a5d869a63314"
      },
      "execution_count": null,
      "outputs": [
        {
          "output_type": "stream",
          "name": "stdout",
          "text": [
            "Identity matrix:\n",
            " [[1. 0. 0. 0. 0.]\n",
            " [0. 1. 0. 0. 0.]\n",
            " [0. 0. 1. 0. 0.]\n",
            " [0. 0. 0. 1. 0.]\n",
            " [0. 0. 0. 0. 1.]]\n",
            "Diagonal elements: [1. 1. 1. 1. 1.]\n"
          ]
        }
      ]
    },
    {
      "cell_type": "markdown",
      "source": [
        "Q 9. Generate a NumPy array of 100 random integers between 0 and 1000. Find and display all prime numbers in this array."
      ],
      "metadata": {
        "id": "eeBpsCYRf3bR"
      }
    },
    {
      "cell_type": "code",
      "source": [
        "def is_prime(num):\n",
        "  if num <= 1:\n",
        "    return False\n",
        "  if num <= 3:\n",
        "    return True\n",
        "  if num % 2 == 0 or num % 3 == 0:\n",
        "    return False\n",
        "  i = 5\n",
        "  while i * i <= num:\n",
        "    if num % i == 0 or num % (i + 2) == 0:\n",
        "      return False\n",
        "    i += 6\n",
        "  return True\n",
        "\n",
        "random_numbers = np.random.randint(0, 1001, 100)\n",
        "prime_numbers = [num for num in random_numbers if is_prime(num)]\n",
        "print(\"Prime numbers in the array:\", prime_numbers)"
      ],
      "metadata": {
        "colab": {
          "base_uri": "https://localhost:8080/"
        },
        "id": "du6vPwMmf_LN",
        "outputId": "8974b235-f462-4c40-8fb7-7c1c5660f5a3"
      },
      "execution_count": null,
      "outputs": [
        {
          "output_type": "stream",
          "name": "stdout",
          "text": [
            "Prime numbers in the array: [809, 829, 397, 659, 811, 563, 61, 293, 563, 137, 457]\n"
          ]
        }
      ]
    },
    {
      "cell_type": "markdown",
      "source": [
        "Q 10. Create a NumPy array representing daily temperatures for a month. Calculate and display the weekly\n",
        "averages."
      ],
      "metadata": {
        "id": "_FY0UxnPJv5W"
      }
    },
    {
      "cell_type": "code",
      "source": [
        "daily_temperatures = np.random.randint(60, 90, 30)\n",
        "weekly_averages = np.mean(daily_temperatures.reshape(5, 6), axis=1)\n",
        "\n",
        "print(\"Weekly averages:\")\n",
        "print(weekly_averages)"
      ],
      "metadata": {
        "colab": {
          "base_uri": "https://localhost:8080/"
        },
        "id": "LAccR8K8J4p3",
        "outputId": "8130acd6-dcb3-426f-9086-1037f324798a"
      },
      "execution_count": null,
      "outputs": [
        {
          "output_type": "stream",
          "name": "stdout",
          "text": [
            "Weekly averages:\n",
            "[73.66666667 80.66666667 69.         72.5        78.66666667]\n"
          ]
        }
      ]
    }
  ]
}